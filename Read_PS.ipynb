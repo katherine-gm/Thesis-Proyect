{
 "cells": [
  {
   "cell_type": "code",
   "execution_count": 1,
   "id": "00e9f0c4",
   "metadata": {},
   "outputs": [],
   "source": [
    "import numpy as np\n",
    "import matplotlib.pyplot as plt\n",
    "import glob\n",
    "from matplotlib import rc\n",
    "rc('font',**{'family':'sans-serif','sans-serif':['Helvetica']})\n",
    "rc('text', usetex=True)"
   ]
  },
  {
   "cell_type": "code",
   "execution_count": 2,
   "id": "f47ddb36",
   "metadata": {},
   "outputs": [],
   "source": [
    "kf = 2*np.pi/2000\n",
    "num_run = 15"
   ]
  },
  {
   "cell_type": "code",
   "execution_count": 7,
   "id": "c6185601",
   "metadata": {},
   "outputs": [],
   "source": [
    "#Read multiple file paths\n",
    "P_path = np.sort(glob.glob('/home/andromeda/EOS/halos/ps_hh_z0.00_B1_byagox_gaussian_1536_2Gpc_085_run*.dat'))"
   ]
  },
  {
   "cell_type": "code",
   "execution_count": 8,
   "id": "16cd861f",
   "metadata": {},
   "outputs": [
    {
     "data": {
      "text/plain": [
       "array(['/home/andromeda/EOS/halos/ps_hh_z0.00_B1_byagox_gaussian_1536_2Gpc_085_run1.dat',\n",
       "       '/home/andromeda/EOS/halos/ps_hh_z0.00_B1_byagox_gaussian_1536_2Gpc_085_run10.dat',\n",
       "       '/home/andromeda/EOS/halos/ps_hh_z0.00_B1_byagox_gaussian_1536_2Gpc_085_run11.dat',\n",
       "       '/home/andromeda/EOS/halos/ps_hh_z0.00_B1_byagox_gaussian_1536_2Gpc_085_run12.dat',\n",
       "       '/home/andromeda/EOS/halos/ps_hh_z0.00_B1_byagox_gaussian_1536_2Gpc_085_run13.dat',\n",
       "       '/home/andromeda/EOS/halos/ps_hh_z0.00_B1_byagox_gaussian_1536_2Gpc_085_run14.dat',\n",
       "       '/home/andromeda/EOS/halos/ps_hh_z0.00_B1_byagox_gaussian_1536_2Gpc_085_run15.dat',\n",
       "       '/home/andromeda/EOS/halos/ps_hh_z0.00_B1_byagox_gaussian_1536_2Gpc_085_run2.dat',\n",
       "       '/home/andromeda/EOS/halos/ps_hh_z0.00_B1_byagox_gaussian_1536_2Gpc_085_run3.dat',\n",
       "       '/home/andromeda/EOS/halos/ps_hh_z0.00_B1_byagox_gaussian_1536_2Gpc_085_run4.dat',\n",
       "       '/home/andromeda/EOS/halos/ps_hh_z0.00_B1_byagox_gaussian_1536_2Gpc_085_run5.dat',\n",
       "       '/home/andromeda/EOS/halos/ps_hh_z0.00_B1_byagox_gaussian_1536_2Gpc_085_run6.dat',\n",
       "       '/home/andromeda/EOS/halos/ps_hh_z0.00_B1_byagox_gaussian_1536_2Gpc_085_run7.dat',\n",
       "       '/home/andromeda/EOS/halos/ps_hh_z0.00_B1_byagox_gaussian_1536_2Gpc_085_run8.dat',\n",
       "       '/home/andromeda/EOS/halos/ps_hh_z0.00_B1_byagox_gaussian_1536_2Gpc_085_run9.dat'],\n",
       "      dtype='<U80')"
      ]
     },
     "execution_count": 8,
     "metadata": {},
     "output_type": "execute_result"
    }
   ],
   "source": [
    "P_path"
   ]
  },
  {
   "cell_type": "code",
   "execution_count": 28,
   "id": "8c9e923f",
   "metadata": {},
   "outputs": [],
   "source": [
    "P_data =[]\n",
    "\n",
    "for i in P_path:\n",
    "    P_data.append(np.loadtxt(i,skiprows=1,unpack=True))\n",
    "    \n",
    "num_linesp = len(P_data[0][0])"
   ]
  },
  {
   "cell_type": "code",
   "execution_count": 51,
   "id": "75284e65",
   "metadata": {},
   "outputs": [],
   "source": [
    "#Power spectrum for n_num realizations\n",
    "kvec, nmodes = P_data[0][0,:],P_data[0][5,:]\n",
    "P = np.zeros((num_run,num_linesp))\n",
    "\n",
    "for i in range(num_run):\n",
    "    P[i,:] = P_data[i][2,:]\n",
    "    \n",
    "#Average over the n_num realizations:\n",
    "\n",
    "avgP = np.sum(P,axis=0)/num_run"
   ]
  },
  {
   "cell_type": "markdown",
   "id": "03e4dd4c",
   "metadata": {},
   "source": [
    "# Bispectrum files"
   ]
  },
  {
   "cell_type": "code",
   "execution_count": 26,
   "id": "c488e03e",
   "metadata": {},
   "outputs": [],
   "source": [
    "#Read multiple paths bispectrum\n",
    "path = np.sort(glob.glob('/home/andromeda/EOS/halos/bisp_hhh_grid_900_s3_c3_iopen1_z0.00_B1_byagox_gaussian_1536_2Gpc_085_run*.dat'))"
   ]
  },
  {
   "cell_type": "code",
   "execution_count": 27,
   "id": "4e76535c",
   "metadata": {},
   "outputs": [
    {
     "data": {
      "text/plain": [
       "array(['/home/andromeda/EOS/halos/bisp_hhh_grid_900_s3_c3_iopen1_z0.00_B1_byagox_gaussian_1536_2Gpc_085_run1.dat',\n",
       "       '/home/andromeda/EOS/halos/bisp_hhh_grid_900_s3_c3_iopen1_z0.00_B1_byagox_gaussian_1536_2Gpc_085_run10.dat',\n",
       "       '/home/andromeda/EOS/halos/bisp_hhh_grid_900_s3_c3_iopen1_z0.00_B1_byagox_gaussian_1536_2Gpc_085_run11.dat',\n",
       "       '/home/andromeda/EOS/halos/bisp_hhh_grid_900_s3_c3_iopen1_z0.00_B1_byagox_gaussian_1536_2Gpc_085_run12.dat',\n",
       "       '/home/andromeda/EOS/halos/bisp_hhh_grid_900_s3_c3_iopen1_z0.00_B1_byagox_gaussian_1536_2Gpc_085_run13.dat',\n",
       "       '/home/andromeda/EOS/halos/bisp_hhh_grid_900_s3_c3_iopen1_z0.00_B1_byagox_gaussian_1536_2Gpc_085_run14.dat',\n",
       "       '/home/andromeda/EOS/halos/bisp_hhh_grid_900_s3_c3_iopen1_z0.00_B1_byagox_gaussian_1536_2Gpc_085_run15.dat',\n",
       "       '/home/andromeda/EOS/halos/bisp_hhh_grid_900_s3_c3_iopen1_z0.00_B1_byagox_gaussian_1536_2Gpc_085_run2.dat',\n",
       "       '/home/andromeda/EOS/halos/bisp_hhh_grid_900_s3_c3_iopen1_z0.00_B1_byagox_gaussian_1536_2Gpc_085_run3.dat',\n",
       "       '/home/andromeda/EOS/halos/bisp_hhh_grid_900_s3_c3_iopen1_z0.00_B1_byagox_gaussian_1536_2Gpc_085_run4.dat',\n",
       "       '/home/andromeda/EOS/halos/bisp_hhh_grid_900_s3_c3_iopen1_z0.00_B1_byagox_gaussian_1536_2Gpc_085_run5.dat',\n",
       "       '/home/andromeda/EOS/halos/bisp_hhh_grid_900_s3_c3_iopen1_z0.00_B1_byagox_gaussian_1536_2Gpc_085_run6.dat',\n",
       "       '/home/andromeda/EOS/halos/bisp_hhh_grid_900_s3_c3_iopen1_z0.00_B1_byagox_gaussian_1536_2Gpc_085_run7.dat',\n",
       "       '/home/andromeda/EOS/halos/bisp_hhh_grid_900_s3_c3_iopen1_z0.00_B1_byagox_gaussian_1536_2Gpc_085_run8.dat',\n",
       "       '/home/andromeda/EOS/halos/bisp_hhh_grid_900_s3_c3_iopen1_z0.00_B1_byagox_gaussian_1536_2Gpc_085_run9.dat'],\n",
       "      dtype='<U105')"
      ]
     },
     "execution_count": 27,
     "metadata": {},
     "output_type": "execute_result"
    }
   ],
   "source": [
    "path"
   ]
  },
  {
   "cell_type": "code",
   "execution_count": 28,
   "id": "dc8d174f",
   "metadata": {},
   "outputs": [],
   "source": [
    "data =[]\n",
    "\n",
    "for i in path:\n",
    "    data.append(np.loadtxt(i,skiprows=0,unpack=True))"
   ]
  },
  {
   "cell_type": "code",
   "execution_count": 32,
   "id": "d905d178",
   "metadata": {},
   "outputs": [],
   "source": [
    "num_lines = len(data[0][0])\n",
    "\n",
    "P1 = np.zeros((num_run,num_lines))\n",
    "P2 = np.zeros((num_run,num_lines))\n",
    "P3 = np.zeros((num_run,num_lines))\n",
    "\n",
    "# Momentum and number of triangles. To obtain the momentum multiply by kf\n",
    "k1, k2, k3, ntriangles = data[0][0,:],data[0][1,:],data[0][2,:],data[0][8,:]\n",
    "\n",
    "# Power spectrum \n",
    "for i in range(num_run):\n",
    "    P1[i,:] = data[i][3,:]\n",
    "    P2[i,:] = data[i][4,:]\n",
    "    P3[i,:] = data[i][5,:]"
   ]
  },
  {
   "cell_type": "code",
   "execution_count": 33,
   "id": "62516967",
   "metadata": {},
   "outputs": [],
   "source": [
    "#Average power spectrum\n",
    "P1m = np.sum(P1,axis=0)/num_run\n",
    "P2m = np.sum(P2,axis=0)/num_run\n",
    "P3m = np.sum(P3,axis=0)/num_run"
   ]
  }
 ],
 "metadata": {
  "kernelspec": {
   "display_name": "Python 3 (ipykernel)",
   "language": "python",
   "name": "python3"
  },
  "language_info": {
   "codemirror_mode": {
    "name": "ipython",
    "version": 3
   },
   "file_extension": ".py",
   "mimetype": "text/x-python",
   "name": "python",
   "nbconvert_exporter": "python",
   "pygments_lexer": "ipython3",
   "version": "3.8.5"
  }
 },
 "nbformat": 4,
 "nbformat_minor": 5
}
